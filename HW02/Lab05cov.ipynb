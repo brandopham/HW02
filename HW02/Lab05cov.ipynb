{
 "cells": [
  {
   "cell_type": "code",
   "execution_count": null,
   "id": "4beb0567",
   "metadata": {},
   "outputs": [],
   "source": [
    "pip install tabulate"
   ]
  },
  {
   "cell_type": "code",
   "execution_count": 1,
   "id": "b212caf8",
   "metadata": {},
   "outputs": [],
   "source": [
    "import COVID19Py\n",
    "import json\n",
    "import pandas as pd\n",
    "import requests\n",
    "from tabulate import tabulate"
   ]
  },
  {
   "cell_type": "code",
   "execution_count": 16,
   "id": "78abb322",
   "metadata": {},
   "outputs": [
    {
     "name": "stdout",
     "output_type": "stream",
     "text": [
      "The least confirmed case:  ['\"ID\":\"9cb646d4-fb86-4b74-8c16-df1f8d0bedaf\"', '\"Country\":\"United States of America\"', '\"CountryCode\":\"US\"', '\"Province\":\"United States Virgin Islands\"', '\"City\":\"\"', '\"CityCode\":\"\"', '\"Lat\":\"18.35\"', '\"Lon\":\"-64.93\"', '\"Confirmed\":0', '\"Deaths\":0', '\"Recovered\":0', '\"Active\":0', '\"Date\":\"1970-01-01T00:00:00Z\"}', '']\n",
      "The most confirmed case:  ['\"ID\":\"dbd78cce-dbef-46e8-a57b-09707534312a\"', '\"Country\":\"United States of America\"', '\"CountryCode\":\"US\"', '\"Province\":\"California\"', '\"City\":\"\"', '\"CityCode\":\"\"', '\"Lat\":\"36.12\"', '\"Lon\":\"-119.68\"', '\"Confirmed\":10274349', '\"Deaths\":92626', '\"Recovered\":0', '\"Active\":10181723', '\"Date\":\"2022-07-09T00:00:00Z\"}', '']\n",
      "Average of active covid19 cases:  1075789.8160312248\n",
      "+----------+---------+\n",
      "|   States |   Cases |\n",
      "+==========+=========+\n",
      "|       41 |      13 |\n",
      "+----------+---------+\n"
     ]
    }
   ],
   "source": [
    "url = \"https://api.covid19api.com/live/country/united-states/status/confirmed\"\n",
    "\n",
    "headers = {\n",
    "    'x-rapidapi-host':\"api host\",\n",
    "    'x-rapidapi-key':\"api token\"\n",
    "}\n",
    "\n",
    "response = requests.request(\"GET\", url, headers=headers)\n",
    "row = response.text\n",
    "row = row.split(\"{\")\n",
    "avg = 0\n",
    "array = row[1].split(\",\")\n",
    "min = int(array[8].strip(\"\\\"Confirmed\\\":\"))\n",
    "max = int(array[8].strip(\"\\\"Confirmed\\\":\"))\n",
    "minprovince = array\n",
    "maxprovince = array\n",
    "\n",
    "mydata = [\n",
    "         [len(array[3]), len(array[8])]\n",
    "]\n",
    "\n",
    "head = [\"States\",\"Cases\"]\n",
    "\n",
    "for i in range(1,len(row)):\n",
    "    array = row[i].split(\",\")\n",
    "    province = array[3]\n",
    "    cases = array[8]\n",
    "    num = int(cases.strip(\"\\\"Confirmed\\\":\"))\n",
    "    if num < min:\n",
    "        min = num\n",
    "        minprovince = array\n",
    "    if num > max:\n",
    "        max = num\n",
    "        maxprovince = array\n",
    "    active = array[11]\n",
    "    g = int(active.strip(\"\\\"Active\\\":\"))\n",
    "    avg += g\n",
    "    f = int(cases.strip(\"\\\"Confirmed\\\":\"))   \n",
    "    \n",
    "average=avg/len(row)\n",
    "print (\"The least confirmed case: \", minprovince)\n",
    "print (\"The most confirmed case: \", maxprovince)\n",
    "print (\"Average of active covid19 cases: \",average)\n",
    "print(tabulate(mydata, headers=head, tablefmt=\"grid\"))"
   ]
  },
  {
   "cell_type": "code",
   "execution_count": null,
   "id": "ad397872",
   "metadata": {},
   "outputs": [],
   "source": [
    "parsed_data = json.loads(response.text)\n",
    "print(parsed_data)"
   ]
  },
  {
   "cell_type": "code",
   "execution_count": null,
   "id": "3ed4d81c",
   "metadata": {},
   "outputs": [],
   "source": [
    "def flatten_json(json):\n",
    "    dict1 = {}\n",
    "    \n",
    "    def flatten(i, name=''):\n",
    "        \n",
    "        if type(i) is dict:\n",
    "            for a in i:\n",
    "                flatten(i[a], name+ a +'_')\n",
    "        else:\n",
    "            dict1[name[:-1]] = i\n",
    "    flatten(json)\n",
    "    return dict1\n",
    "\n",
    "df=pd.DataFrame.from_dict(flatten_json(parsed_data), orient='index')"
   ]
  },
  {
   "cell_type": "code",
   "execution_count": null,
   "id": "869a43e9",
   "metadata": {},
   "outputs": [],
   "source": [
    "flatten_json(parsed_data)"
   ]
  },
  {
   "cell_type": "code",
   "execution_count": null,
   "id": "db19879c",
   "metadata": {},
   "outputs": [],
   "source": [
    "import COVID19Py\n",
    "covid19 = COVID19Py.COVID19()\n",
    "covid19 = COVID19Py.COVID19(data_source=\"jhu\")\n",
    "latest = covid19.getLatest()\n",
    "print(latest)\n",
    "location = covid19.getLocationByCountryCode(\"US\")\n",
    "print(location)"
   ]
  },
  {
   "cell_type": "code",
   "execution_count": null,
   "id": "c6219ae1",
   "metadata": {},
   "outputs": [],
   "source": [
    "!curl --location --request GET \"https://api.covid19api.com/live/country/united-states/status/confirmed\""
   ]
  },
  {
   "cell_type": "code",
   "execution_count": 12,
   "id": "a208e65b",
   "metadata": {},
   "outputs": [],
   "source": [
    "def covid19():\n",
    "    f = open (\"covid19.txt\",\"r\")\n",
    "    \n",
    "    SL = []\n",
    "    \n",
    "    rows =  f.readlines()\n",
    "    for row in rows:\n",
    "        row = row.strip(\"{\")\n",
    "        print (row)\n",
    "        elms = row.split(\"{\")\n",
    "        state = elms[0]\n",
    "        SL.append(state)\n",
    "        print(state)\n",
    "        print( )\n",
    "        \n",
    "    StateList =[]\n",
    "    \n",
    "    StateList = set(SL)\n",
    "    \n",
    "    #print (\"Name of States =\", len(StateList))\n",
    "    #print (\"Their names are:\",StateList)\n",
    "    \n",
    "    f.close()"
   ]
  },
  {
   "cell_type": "code",
   "execution_count": 13,
   "id": "6bc13e53",
   "metadata": {},
   "outputs": [
    {
     "name": "stderr",
     "output_type": "stream",
     "text": [
      "IOPub data rate exceeded.\n",
      "The notebook server will temporarily stop sending output\n",
      "to the client in order to avoid crashing it.\n",
      "To change this limit, set the config variable\n",
      "`--NotebookApp.iopub_data_rate_limit`.\n",
      "\n",
      "Current values:\n",
      "NotebookApp.iopub_data_rate_limit=1000000.0 (bytes/sec)\n",
      "NotebookApp.rate_limit_window=3.0 (secs)\n",
      "\n"
     ]
    }
   ],
   "source": [
    "covid19()"
   ]
  },
  {
   "cell_type": "code",
   "execution_count": null,
   "id": "d1d25eef",
   "metadata": {},
   "outputs": [],
   "source": [
    "def "
   ]
  },
  {
   "cell_type": "code",
   "execution_count": null,
   "id": "db749904",
   "metadata": {},
   "outputs": [],
   "source": []
  },
  {
   "cell_type": "code",
   "execution_count": null,
   "id": "a9fb2712",
   "metadata": {},
   "outputs": [],
   "source": []
  }
 ],
 "metadata": {
  "kernelspec": {
   "display_name": "Python 3",
   "language": "python",
   "name": "python3"
  },
  "language_info": {
   "codemirror_mode": {
    "name": "ipython",
    "version": 3
   },
   "file_extension": ".py",
   "mimetype": "text/x-python",
   "name": "python",
   "nbconvert_exporter": "python",
   "pygments_lexer": "ipython3",
   "version": "3.8.8"
  }
 },
 "nbformat": 4,
 "nbformat_minor": 5
}
