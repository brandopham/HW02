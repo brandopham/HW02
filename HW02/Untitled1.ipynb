{
 "cells": [
  {
   "cell_type": "code",
   "execution_count": 1,
   "id": "7e6cf9c5",
   "metadata": {},
   "outputs": [],
   "source": [
    "import pandas as pd\n",
    "import requests\n",
    "import json"
   ]
  },
  {
   "cell_type": "code",
   "execution_count": 2,
   "id": "a05318b7",
   "metadata": {},
   "outputs": [],
   "source": [
    "file = !curl -s --location --request GET \"https://api.covid19api.com/live/country/united-states/status/confirmed\""
   ]
  },
  {
   "cell_type": "code",
   "execution_count": 3,
   "id": "7e71dedf",
   "metadata": {},
   "outputs": [],
   "source": [
    "change = file[0].replace('[','')\n",
    "newFile = change.replace(']','')"
   ]
  },
  {
   "cell_type": "code",
   "execution_count": 4,
   "id": "455d9be5",
   "metadata": {},
   "outputs": [],
   "source": [
    "df = pd.read_json(newFile,lines=True)"
   ]
  },
  {
   "cell_type": "code",
   "execution_count": 18,
   "id": "19d790f6",
   "metadata": {},
   "outputs": [
    {
     "name": "stdout",
     "output_type": "stream",
     "text": [
      "Most Cases:\n",
      "\n",
      " 20938    California\n",
      "20982    California\n",
      "Name: Province, dtype: object \n",
      "\n",
      " 20938    10274349\n",
      "20982    10274349\n",
      "Name: Confirmed, dtype: int64\n",
      "\n",
      "\n",
      " Least Cases: \n",
      "\n",
      " 0    United States Virgin Islands\n",
      "1                  American Samoa\n",
      "Name: Province, dtype: object \n",
      " 0    0\n",
      "1    0\n",
      "Name: Confirmed, dtype: int64\n",
      "\n",
      "\n",
      "Average Cases:  1090704.7516184312\n"
     ]
    }
   ],
   "source": [
    "print(\"Most Cases:\\n\\n\", df[df.Confirmed == df.Confirmed.max()]['Province'],\"\\n\\n\", df[df.Confirmed == df.Confirmed.max()]['Confirmed'])\n",
    "print(\"\\n\\n Least Cases: \\n\\n\", df[df.Confirmed == df.Confirmed.min()]['Province'], \"\\n\", df[df.Confirmed == df.Confirmed.min()]['Confirmed'])\n",
    "print(\"\\n\\nAverage Cases: \", df.Confirmed.mean())"
   ]
  },
  {
   "cell_type": "code",
   "execution_count": null,
   "id": "cc1439d9",
   "metadata": {},
   "outputs": [],
   "source": []
  }
 ],
 "metadata": {
  "kernelspec": {
   "display_name": "Python 3",
   "language": "python",
   "name": "python3"
  },
  "language_info": {
   "codemirror_mode": {
    "name": "ipython",
    "version": 3
   },
   "file_extension": ".py",
   "mimetype": "text/x-python",
   "name": "python",
   "nbconvert_exporter": "python",
   "pygments_lexer": "ipython3",
   "version": "3.8.8"
  }
 },
 "nbformat": 4,
 "nbformat_minor": 5
}
